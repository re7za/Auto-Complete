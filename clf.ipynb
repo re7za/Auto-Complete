{
  "nbformat": 4,
  "nbformat_minor": 0,
  "metadata": {
    "colab": {
      "name": "clf.ipynb",
      "provenance": [],
      "collapsed_sections": [],
      "include_colab_link": true
    },
    "kernelspec": {
      "name": "python3",
      "display_name": "Python 3"
    },
    "language_info": {
      "name": "python"
    }
  },
  "cells": [
    {
      "cell_type": "markdown",
      "metadata": {
        "id": "view-in-github",
        "colab_type": "text"
      },
      "source": [
        "<a href=\"https://colab.research.google.com/github/re7za/Auto-Complete/blob/master/clf.ipynb\" target=\"_parent\"><img src=\"https://colab.research.google.com/assets/colab-badge.svg\" alt=\"Open In Colab\"/></a>"
      ]
    },
    {
      "cell_type": "code",
      "metadata": {
        "id": "n7zMXrLN2ybT"
      },
      "source": [
        "from sklearn.datasets import load_diabetes\n",
        "from sklearn.model_selection import train_test_split\n",
        "import numpy as np\n",
        "\n",
        "x, y = load_diabetes(return_X_y=True)\n",
        "x_train, x_test, y_train, y_test = train_test_split(x, y, test_size=0.25, random_state=23)"
      ],
      "execution_count": 2,
      "outputs": []
    },
    {
      "cell_type": "code",
      "metadata": {
        "colab": {
          "base_uri": "https://localhost:8080/"
        },
        "id": "4_vG6sFl3YWl",
        "outputId": "f1c91c73-76db-421a-d278-d4face171ecc"
      },
      "source": [
        "from sklearn.tree import DecisionTreeClassifier\n",
        "\n",
        "clf_entropy = DecisionTreeClassifier(criterion=\"entropy\", random_state=42, max_depth=3, min_samples_leaf=5)\n",
        "clf_entropy.fit(x_train,y_train)\n",
        " \n",
        "clf_gini = DecisionTreeClassifier(criterion=\"gini\", random_state=42, max_depth=3, min_samples_leaf=5)\n",
        "clf_gini.fit(x_train,y_train)"
      ],
      "execution_count": 4,
      "outputs": [
        {
          "output_type": "execute_result",
          "data": {
            "text/plain": [
              "DecisionTreeClassifier(max_depth=3, min_samples_leaf=5, random_state=42)"
            ]
          },
          "metadata": {},
          "execution_count": 4
        }
      ]
    },
    {
      "cell_type": "code",
      "metadata": {
        "colab": {
          "base_uri": "https://localhost:8080/"
        },
        "id": "5l2xDHjM4TVg",
        "outputId": "8cda0ea2-1dcc-42f0-9e41-74f1914714b0"
      },
      "source": [
        "y_gini_p = clf_gini.predict(x_test)\n",
        "y_entropy_p = clf_entropy.predict(x_test)\n",
        "\n",
        "from sklearn.metrics import accuracy_score,confusion_matrix\n",
        "print(\"accuracy_gini:\", end=' ')\n",
        "print(accuracy_score(y_test, y_gini_p))\n",
        "print(confusion_matrix(y_test, y_gini_p))\n",
        "print(\"accuracy_entropy:\", end=' ')\n",
        "print(accuracy_score(y_test,y_entropy_p))\n",
        "print(confusion_matrix(y_test,y_entropy_p))"
      ],
      "execution_count": 9,
      "outputs": [
        {
          "output_type": "stream",
          "name": "stdout",
          "text": [
            "accuracy_gini: 0.0\n",
            "[[0 0 0 ... 0 0 0]\n",
            " [0 0 0 ... 0 0 0]\n",
            " [0 0 0 ... 0 0 0]\n",
            " ...\n",
            " [0 0 0 ... 0 0 0]\n",
            " [0 0 0 ... 0 0 0]\n",
            " [0 0 0 ... 0 0 0]]\n",
            "accuracy_entropy: 0.0\n",
            "[[0 0 0 ... 0 0 0]\n",
            " [0 0 0 ... 0 0 0]\n",
            " [0 0 0 ... 0 0 0]\n",
            " ...\n",
            " [0 0 0 ... 0 0 0]\n",
            " [0 0 0 ... 0 0 0]\n",
            " [0 0 0 ... 0 0 0]]\n"
          ]
        }
      ]
    },
    {
      "cell_type": "code",
      "metadata": {
        "colab": {
          "base_uri": "https://localhost:8080/"
        },
        "id": "uvO0l4NT5JBS",
        "outputId": "18439dee-e22a-4b76-abc3-c043ff49cf42"
      },
      "source": [
        "from sklearn.neighbors import KNeighborsClassifier\n",
        "neighbors = KNeighborsClassifier(n_neighbors=4)\n",
        "neighbors.fit(x_train, y_train)"
      ],
      "execution_count": 11,
      "outputs": [
        {
          "output_type": "execute_result",
          "data": {
            "text/plain": [
              "KNeighborsClassifier(n_neighbors=4)"
            ]
          },
          "metadata": {},
          "execution_count": 11
        }
      ]
    },
    {
      "cell_type": "code",
      "metadata": {
        "colab": {
          "base_uri": "https://localhost:8080/"
        },
        "id": "B-Clg2_R5mO8",
        "outputId": "56777c72-a4d0-495c-d3e0-895420f75bc6"
      },
      "source": [
        "y_neighbors_p = neighbors.predict(x_test)\n",
        "\n",
        "print(\"accuracy:\", end=' ')\n",
        "print(accuracy_score(y_test,y_neighbors_p))\n",
        "print(confusion_matrix(y_test,y_neighbors_p))"
      ],
      "execution_count": 12,
      "outputs": [
        {
          "output_type": "stream",
          "name": "stdout",
          "text": [
            "accuracy: 0.0\n",
            "[[0 0 0 ... 0 0 0]\n",
            " [0 0 0 ... 0 0 0]\n",
            " [0 0 0 ... 0 0 0]\n",
            " ...\n",
            " [0 0 0 ... 0 0 0]\n",
            " [0 0 0 ... 0 0 0]\n",
            " [0 0 0 ... 0 0 0]]\n"
          ]
        }
      ]
    },
    {
      "cell_type": "code",
      "metadata": {
        "colab": {
          "base_uri": "https://localhost:8080/"
        },
        "id": "2MbJvAB75ozd",
        "outputId": "d2a0b4fd-8171-4a20-d31d-14537860a2f4"
      },
      "source": [
        "from sklearn.naive_bayes import GaussianNB\n",
        "\n",
        "Gaussian_nb = GaussianNB()\n",
        "y_predict = Gaussian_nb.fit(x_train, y_train).predict(x_test)\n",
        "print(\"Number of mislabeled points out of a total %d points : %d\"\n",
        "      % (x_test.shape[0], (y_test != y_predict).sum()))\n",
        "\n",
        "print(\"accuracy:\", end=' ')\n",
        "print(accuracy_score(y_test, y_predict))\n",
        "print(confusion_matrix(y_test, y_predict))"
      ],
      "execution_count": 14,
      "outputs": [
        {
          "output_type": "stream",
          "name": "stdout",
          "text": [
            "Number of mislabeled points out of a total 111 points : 111\n",
            "accuracy: 0.0\n",
            "[[0 0 0 ... 0 0 0]\n",
            " [0 0 0 ... 0 0 0]\n",
            " [0 0 0 ... 0 0 0]\n",
            " ...\n",
            " [0 0 0 ... 0 0 0]\n",
            " [0 0 0 ... 0 0 0]\n",
            " [0 0 0 ... 0 0 0]]\n"
          ]
        }
      ]
    },
    {
      "cell_type": "code",
      "metadata": {
        "colab": {
          "base_uri": "https://localhost:8080/"
        },
        "id": "mmDn0UIZ6ep5",
        "outputId": "a793a412-ebc7-4703-a9f5-51c94f74c5a0"
      },
      "source": [
        "from sklearn import svm\n",
        "\n",
        "first_model = svm.SVC(kernel='linear', gamma=1)\n",
        "first_model.fit(x_train, y_train)\n",
        "y_svm = first_model.predict(x_test)\n",
        "\n",
        "print(\"accuracy:\", end=' ')\n",
        "print(accuracy_score(y_test,y_svm))\n",
        "print(confusion_matrix(y_test,y_svm))"
      ],
      "execution_count": 19,
      "outputs": [
        {
          "output_type": "stream",
          "name": "stdout",
          "text": [
            "accuracy: 0.0\n",
            "[[0 0 0 ... 0 0 0]\n",
            " [0 0 0 ... 0 0 0]\n",
            " [0 0 0 ... 0 0 0]\n",
            " ...\n",
            " [0 0 0 ... 0 0 0]\n",
            " [0 0 0 ... 0 0 0]\n",
            " [0 0 0 ... 0 0 0]]\n"
          ]
        }
      ]
    },
    {
      "cell_type": "code",
      "metadata": {
        "colab": {
          "base_uri": "https://localhost:8080/"
        },
        "id": "ygagKPrK6i3p",
        "outputId": "04ccdee3-05bb-4fcb-b7ff-57f530b1a3f1"
      },
      "source": [
        "second_model = svm.SVC(kernel='rbf', gamma=1)\n",
        "\n",
        "second_model.fit(x_train, y_train)\n",
        "y_svm2 = second_model.predict(x_test)\n",
        "\n",
        "print(\"accuracy:\", end=' ')\n",
        "print(accuracy_score(y_test,y_svm2))\n",
        "print(confusion_matrix(y_test,y_svm2))"
      ],
      "execution_count": 20,
      "outputs": [
        {
          "output_type": "stream",
          "name": "stdout",
          "text": [
            "accuracy: 0.0\n",
            "[[0 0 0 ... 0 0 0]\n",
            " [0 0 0 ... 0 0 0]\n",
            " [0 0 0 ... 0 0 0]\n",
            " ...\n",
            " [0 0 0 ... 0 0 0]\n",
            " [0 0 0 ... 0 0 0]\n",
            " [0 0 0 ... 0 0 0]]\n"
          ]
        }
      ]
    },
    {
      "cell_type": "code",
      "metadata": {
        "colab": {
          "base_uri": "https://localhost:8080/"
        },
        "id": "_XcuYaA96myc",
        "outputId": "0411f45f-3a67-407e-be15-14c22c1c03e2"
      },
      "source": [
        "third_model = svm.SVC(kernel='precomputed', gamma=1)\n",
        "\n",
        "gram_train = np.dot(x_train, x_train.T)\n",
        "third_model.fit(gram_train, y_train)\n",
        "# predict on training examples\n",
        "gram_test = np.dot(x_test, x_train.T)\n",
        "y_svm3 = third_model.predict(gram_test)\n",
        "\n",
        "print(\"accuracy:\", end=' ')\n",
        "print(accuracy_score(y_test,y_svm3))\n",
        "print(confusion_matrix(y_test,y_svm3))"
      ],
      "execution_count": 21,
      "outputs": [
        {
          "output_type": "stream",
          "name": "stdout",
          "text": [
            "accuracy: 0.0\n",
            "[[0 0 0 ... 0 0 0]\n",
            " [0 0 0 ... 0 0 0]\n",
            " [0 0 0 ... 0 0 0]\n",
            " ...\n",
            " [0 0 0 ... 0 0 0]\n",
            " [0 0 0 ... 0 0 0]\n",
            " [0 0 0 ... 0 0 0]]\n"
          ]
        }
      ]
    },
    {
      "cell_type": "code",
      "metadata": {
        "colab": {
          "base_uri": "https://localhost:8080/"
        },
        "id": "Rz6Z1hpo6sMF",
        "outputId": "a50734ae-d195-4797-c8f2-b55ef0ac857f"
      },
      "source": [
        "from sklearn.tree import DecisionTreeClassifier\n",
        "from sklearn.ensemble import BaggingClassifier, AdaBoostClassifier\n",
        "\n",
        "my_tree = DecisionTreeClassifier(max_depth=3, random_state=23)\n",
        "bagging = BaggingClassifier(base_estimator=my_tree, n_estimators=5, max_samples=200, bootstrap=True)\n",
        "bagging.fit(x_train, y_train)\n",
        "\n",
        "print(f\"Train: {bagging.score(x_train, y_train)}\")\n",
        "print(f\"Test: {bagging.score(x_test, y_test)}\")\n",
        "\n",
        "my_tree.fit(x_train, y_train)\n",
        "print(f\"Train: {my_tree.score(x_train, y_train)}\")\n",
        "print(f\"Test: {my_tree.score(x_test, y_test)}\")"
      ],
      "execution_count": 25,
      "outputs": [
        {
          "output_type": "stream",
          "name": "stdout",
          "text": [
            "Train score: 0.08157099697885196\n",
            "Test score: 0.0\n",
            "Train score: 0.06948640483383686\n",
            "Test score: 0.0\n"
          ]
        }
      ]
    },
    {
      "cell_type": "code",
      "metadata": {
        "colab": {
          "base_uri": "https://localhost:8080/"
        },
        "id": "R9lrJUMv66uW",
        "outputId": "cde80552-4fbf-41b1-d711-591f576e07fc"
      },
      "source": [
        "boost = AdaBoostClassifier(base_estimator=my_tree, n_estimators=5, learning_rate=0.1, random_state=23)\n",
        "boost.fit(x_train, y_train)\n",
        "\n",
        "print(f\"Train: {boost.score(x_train, y_train)}\")\n",
        "print(f\"Test: {boost.score(x_test, y_test)}\")"
      ],
      "execution_count": 27,
      "outputs": [
        {
          "output_type": "stream",
          "name": "stdout",
          "text": [
            "Train: 0.1148036253776435\n",
            "Test: 0.009009009009009009\n"
          ]
        }
      ]
    },
    {
      "cell_type": "code",
      "metadata": {
        "colab": {
          "base_uri": "https://localhost:8080/"
        },
        "id": "TnGuRmFg6_mX",
        "outputId": "d602a1ec-c398-4c7d-f73f-32c9a2f3b59c"
      },
      "source": [
        "from sklearn.neural_network import MLPClassifier\n",
        "clsfr = MLPClassifier(max_iter=300,random_state=1)\n",
        "clsfr.fit(x_train, y_train)\n",
        "\n",
        "y_pp = classifier.predict(x_test)\n",
        "\n",
        "print(\"accuracy:\", end=' ')\n",
        "print(accuracy_score(y_test,y_pp))\n",
        "print(confusion_matrix(y_test,y_pp))"
      ],
      "execution_count": 29,
      "outputs": [
        {
          "output_type": "stream",
          "name": "stdout",
          "text": [
            "accuracy: 0.0\n",
            "[[0 0 0 ... 0 0 0]\n",
            " [0 0 0 ... 0 0 0]\n",
            " [0 0 0 ... 0 0 0]\n",
            " ...\n",
            " [0 0 0 ... 0 0 0]\n",
            " [0 0 0 ... 0 0 0]\n",
            " [0 0 0 ... 0 0 0]]\n"
          ]
        },
        {
          "output_type": "stream",
          "name": "stderr",
          "text": [
            "/usr/local/lib/python3.7/dist-packages/sklearn/neural_network/_multilayer_perceptron.py:696: ConvergenceWarning: Stochastic Optimizer: Maximum iterations (300) reached and the optimization hasn't converged yet.\n",
            "  ConvergenceWarning,\n"
          ]
        }
      ]
    },
    {
      "cell_type": "code",
      "metadata": {
        "id": "mgtOh2CX7Ddv"
      },
      "source": [
        ""
      ],
      "execution_count": null,
      "outputs": []
    }
  ]
}